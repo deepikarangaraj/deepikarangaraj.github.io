{
  "nbformat": 4,
  "nbformat_minor": 0,
  "metadata": {
    "colab": {
      "name": "Top 100 codes.ipynb",
      "provenance": [],
      "authorship_tag": "ABX9TyPguF7gygrEK0r7m6JemcMI",
      "include_colab_link": true
    },
    "kernelspec": {
      "name": "python3",
      "display_name": "Python 3"
    },
    "language_info": {
      "name": "python"
    }
  },
  "cells": [
    {
      "cell_type": "markdown",
      "metadata": {
        "id": "view-in-github",
        "colab_type": "text"
      },
      "source": [
        "<a href=\"https://colab.research.google.com/github/deepikarangaraj/deepikarangaraj.github.io/blob/main/Top_100_codes.ipynb\" target=\"_parent\"><img src=\"https://colab.research.google.com/assets/colab-badge.svg\" alt=\"Open In Colab\"/></a>"
      ]
    },
    {
      "cell_type": "code",
      "metadata": {
        "id": "Cg2_WGyt3igl"
      },
      "source": [
        "#Positive or Negative number:\n",
        "n=int(input(\"enter the number:\"))\n",
        "if n>0:\n",
        "  print(\"the given number is positive\")\n",
        "else:\n",
        "  print(\"the given number is negative\")\n",
        "  "
      ],
      "execution_count": null,
      "outputs": []
    },
    {
      "cell_type": "code",
      "metadata": {
        "id": "SE855ikl4PiY"
      },
      "source": [
        "#Even or Odd number:\n",
        "n1=int(input(\"enter the number\"))\n",
        "if n1%2==0:\n",
        "  print(\"the given number is even number\")\n",
        "else:\n",
        "  print(\"the given number is odd number\")"
      ],
      "execution_count": null,
      "outputs": []
    },
    {
      "cell_type": "code",
      "metadata": {
        "id": "ozP_goM840uA"
      },
      "source": [
        "#Sum of First N Natural numbers:\n",
        "n2=int(input(\"enter the number\"))\n",
        "summ=0\n",
        "for i in range(1,n2+1):\n",
        "  summ=summ+i\n",
        "print(\"summ of n natural numbers\",summ)\n",
        "\n",
        "#method 2\n",
        "n3=(n2*(n2+1))/2\n",
        "print(\"summ of n natural numbers\",n3)\n",
        "\n"
      ],
      "execution_count": null,
      "outputs": []
    },
    {
      "cell_type": "code",
      "metadata": {
        "id": "9EFoBAp38zSu"
      },
      "source": [
        "#Sum of N natural numbers:\n",
        "start_value=int(input(\"enter the start value:\"))\n",
        "end_value=int(input(\"enter the end value:\"))\n",
        "valuee=0\n",
        "for i in range(start_value,end_value+1,1):\n",
        "  valuee=valuee+i\n",
        "print(\"sum of n natural number {}\".format(valuee))"
      ],
      "execution_count": null,
      "outputs": []
    },
    {
      "cell_type": "code",
      "metadata": {
        "id": "K2-kaB92-OPX"
      },
      "source": [
        "#Sum of numbers in a given range:\n",
        "#from 1 -100 calculate the sum of odd numbers\n",
        "val=0\n",
        "for i in range(1,100+1,2):\n",
        "  val=val+i\n",
        "print(\"sum of odd numbers from 1-100\",val)\n",
        "\n",
        "#from 1 -100 calculate the sum of even numbers\n",
        "vall=0\n",
        "for i in range(0,100+1,2):\n",
        "  vall=vall+i\n",
        "print(\"sum of even numbers from 1-100\",vall)"
      ],
      "execution_count": null,
      "outputs": []
    },
    {
      "cell_type": "code",
      "metadata": {
        "id": "zSHcZFqOBMdu"
      },
      "source": [
        "#Greatest of two numbers:\n",
        "a=int(input(\"enter the number\"))\n",
        "b=int(input(\"enter the number\"))\n",
        "c=[a,b]\n",
        "#using built-in method to find greatest number\n",
        "print(max(c))\n",
        "\n",
        "#method 2\n",
        "if a>b:\n",
        "  print(a)\n",
        "else:\n",
        "  print(b)\n",
        "\n",
        "#Greatest of the Three numbers:\n",
        "d=int(input(\"enter the number\"))\n",
        "e=[a,b,d]\n",
        "print(max(e))"
      ],
      "execution_count": null,
      "outputs": []
    },
    {
      "cell_type": "code",
      "metadata": {
        "id": "U9RSRQDfC6oX"
      },
      "source": [
        "#Leap year or not:\n",
        "year=int(input(\"enter the year\"))\n",
        "if year%4==0:\n",
        "  if year%100==0:\n",
        "    if year%400==0:\n",
        "      print(\"{0} is a leap year\".format(year))\n",
        "    else:\n",
        "      print(\"{0} is a not leap year\".format(year))\n",
        "  else:\n",
        "    print(\"{0} is a leap year\".format(year))\n",
        "else:\n",
        "  print(\"{0} is a not leap year\".format(year))"
      ],
      "execution_count": null,
      "outputs": []
    }
  ]
}